{
 "cells": [
  {
   "cell_type": "markdown",
   "metadata": {
    "id": "uhoJOM33M37J"
   },
   "source": [
    "# **Satellite Data insert into MongoDB with 5 sec delay for a whole day**\n"
   ]
  },
  {
   "cell_type": "code",
   "execution_count": 2,
   "metadata": {},
   "outputs": [],
   "source": [
    "# I have a ISS satellite link\n",
    "# It gives that position data for each & every seconds \n",
    "# I want to store that data for 24hrs with 5sec delay between taking the data"
   ]
  },
  {
   "cell_type": "code",
   "execution_count": null,
   "metadata": {
    "id": "OQI_h8T1JUZa"
   },
   "outputs": [],
   "source": [
    "import pymongo"
   ]
  },
  {
   "cell_type": "code",
   "execution_count": null,
   "metadata": {
    "id": "aRChKKGdJ8qh"
   },
   "outputs": [],
   "source": [
    "connection = pymongo.MongoClient(\"mongodb://mdyusuf2528:<password>@ac-zay3g4s-shard-00-00.bqzotcy.mongodb.net:27017,ac-zay3g4s-shard-00-01.bqzotcy.mongodb.net:27017,ac-zay3g4s-shard-00-02.bqzotcy.mongodb.net:27017/?ssl=true&replicaSet=atlas-z8t1pm-shard-0&authSource=admin&retryWrites=true&w=majority\")"
   ]
  },
  {
   "cell_type": "code",
   "execution_count": null,
   "metadata": {
    "id": "5vTW0OL-J8np"
   },
   "outputs": [],
   "source": [
    "#Here, I have to create or connect with databade in MongoDB\n",
    "Yusuf = connection[\"Satelite\"]"
   ]
  },
  {
   "cell_type": "code",
   "execution_count": null,
   "metadata": {
    "id": "jmVD_L8LJ8kc"
   },
   "outputs": [],
   "source": [
    "# Here, I have to connect with Collection of DB in MDB\n",
    "Yusuf_Sat_Data = Yusuf[\"Sat_Data\"]"
   ]
  },
  {
   "cell_type": "code",
   "execution_count": null,
   "metadata": {
    "id": "_VtDbgZUJ8h6"
   },
   "outputs": [],
   "source": [
    "#This is for access the link of satlite\n",
    "from urllib.request import *"
   ]
  },
  {
   "cell_type": "code",
   "execution_count": null,
   "metadata": {
    "id": "q4LMyyg1Lf3R"
   },
   "outputs": [],
   "source": [
    "#This is for decode the byte satelite date to dict\n",
    "import json"
   ]
  },
  {
   "cell_type": "code",
   "execution_count": null,
   "metadata": {
    "id": "9t9-aR6HNd1i"
   },
   "outputs": [],
   "source": [
    "#This is for time delay\n",
    "import time"
   ]
  },
  {
   "cell_type": "code",
   "execution_count": null,
   "metadata": {
    "id": "AZjNzLDVfdWO"
   },
   "outputs": [],
   "source": [
    "S = \"http://api.open-notify.org/iss-now.json\"\n",
    "Day = (24 * 60 * 60)//5 \n",
    "count = 0"
   ]
  },
  {
   "cell_type": "code",
   "execution_count": null,
   "metadata": {
    "id": "qW0RYtFRJ8d0"
   },
   "outputs": [],
   "source": [
    "# Here, is the main code [Get the data from link || decode the data || Insert the data into MongoDB with 5 sec delay for whole day]\n",
    "while  True:\n",
    "  time.sleep(5)\n",
    "  link = urlopen(S)\n",
    "  sat_byte = link.read()\n",
    "  A = json.loads(sat_byte.decode())\n",
    "  Yusuf_Sat_Data.insert_one(A)\n",
    "  count += 1\n",
    "  if count == Day: break"
   ]
  },
  {
   "cell_type": "code",
   "execution_count": null,
   "metadata": {
    "colab": {
     "base_uri": "https://localhost:8080/"
    },
    "id": "Sv9LLwCrsV82",
    "outputId": "c4978291-78aa-4339-e03c-a87925db3172"
   },
   "outputs": [
    {
     "data": {
      "text/plain": [
       "17280"
      ]
     },
     "execution_count": 13,
     "metadata": {},
     "output_type": "execute_result"
    }
   ],
   "source": [
    "Day"
   ]
  }
 ],
 "metadata": {
  "colab": {
   "provenance": []
  },
  "kernelspec": {
   "display_name": "Python 3 (ipykernel)",
   "language": "python",
   "name": "python3"
  },
  "language_info": {
   "codemirror_mode": {
    "name": "ipython",
    "version": 3
   },
   "file_extension": ".py",
   "mimetype": "text/x-python",
   "name": "python",
   "nbconvert_exporter": "python",
   "pygments_lexer": "ipython3",
   "version": "3.9.13"
  }
 },
 "nbformat": 4,
 "nbformat_minor": 1
}
